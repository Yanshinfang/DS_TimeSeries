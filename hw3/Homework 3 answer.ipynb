{
 "cells": [
  {
   "cell_type": "markdown",
   "id": "78cc9c00",
   "metadata": {},
   "source": [
    "**Credit to Seneth**"
   ]
  },
  {
   "cell_type": "code",
   "execution_count": 4,
   "id": "b6f9f7c3",
   "metadata": {},
   "outputs": [],
   "source": [
    "from statsmodels.tsa.arima.model import ARIMA\n",
    "import matplotlib.pyplot as plt\n",
    "import numpy as np\n",
    "import pandas as pd\n",
    "import sklearn.metrics as skmetrics\n",
    "from sklearn.metrics import mean_squared_error\n",
    "\n",
    "import warnings                               \n",
    "warnings.filterwarnings('ignore')"
   ]
  },
  {
   "cell_type": "code",
   "execution_count": 2,
   "id": "30cde2f0",
   "metadata": {},
   "outputs": [],
   "source": [
    "profit = pd.read_csv('profit.csv')['Profit']\n",
    "train, test = profit[:-3], profit[-3:]"
   ]
  },
  {
   "cell_type": "markdown",
   "id": "1d3d39b4",
   "metadata": {},
   "source": [
    "**Method 1: direct multi-step forecast**"
   ]
  },
  {
   "cell_type": "code",
   "execution_count": 5,
   "id": "4c1b243a",
   "metadata": {},
   "outputs": [
    {
     "name": "stdout",
     "output_type": "stream",
     "text": [
      "Best Step1 & RMSE: ((0, 0, 0), 0.8536881722355835)\n",
      "Best Step2 & RMSE: ((0, 0, 0), 0.6987338580443837)\n",
      "Best Step3 & RMSE: ((0, 0, 4), 0.7352487743097409)\n",
      "Best AVG & RMSE: ((0, 0, 0), 0.7931228819385543)\n"
     ]
    }
   ],
   "source": [
    "def evaluate_models_direct_cv_step(dataset, p_values, d_values, q_values, step, k_fold):\n",
    "    result = []\n",
    "    for p in p_values:\n",
    "        for d in d_values:\n",
    "            for q in q_values:\n",
    "                order = (p,d,q)\n",
    "                validation_size=step\n",
    "                train_size=len(dataset)-k_fold*step\n",
    "                step1=[]\n",
    "                step2=[]\n",
    "                step3=[]\n",
    "                stepavg = []\n",
    "                for k in range(0,k_fold):\n",
    "                    train, test = dataset[0:train_size+k*validation_size], \\\n",
    "                            dataset[train_size+k*validation_size:train_size+k*validation_size+step]\n",
    "                    model = ARIMA(train, order=order) \n",
    "                    model_fit = model.fit()\n",
    "                    prediction=model_fit.forecast(step)\n",
    "\n",
    "                    # Step 1\n",
    "                    rmse1 = skmetrics.mean_squared_error(test[:1], prediction[:1])\n",
    "                    step1.append(rmse1)\n",
    "\n",
    "                    # Step 2\n",
    "                    rmse2 = skmetrics.mean_squared_error(test[1:2], prediction[1:2])\n",
    "                    step2.append(rmse2)\n",
    "                    \n",
    "                    # Step 3\n",
    "                    rmse3 = skmetrics.mean_squared_error(test[2:3], prediction[2:3])\n",
    "                    step3.append(rmse3)\n",
    "\n",
    "                    rmseavg = np.sqrt(skmetrics.mean_squared_error(test, prediction))\n",
    "                    stepavg.append(rmseavg)\n",
    "                    \n",
    "                rmse1_avg=np.sqrt(sum(step1)/k_fold)\n",
    "                rmse2_avg=np.sqrt(sum(step2)/k_fold)\n",
    "                rmse3_avg=np.sqrt(sum(step3)/k_fold)\n",
    "                rmse_avg = sum(stepavg)/k_fold\n",
    "                result.append((order, rmse1_avg, rmse2_avg, rmse3_avg, rmse_avg))\n",
    "                \n",
    "    min_step1 = min(result, key=lambda x: x[1])\n",
    "    print(f\"Best Step1 & RMSE: {min_step1[0], min_step1[1]}\")\n",
    "    min_step2 = min(result, key=lambda x: x[2])\n",
    "    print(f\"Best Step2 & RMSE: {min_step2[0], min_step2[2]}\")\n",
    "    min_step3 = min(result, key=lambda x: x[3])\n",
    "    print(f\"Best Step3 & RMSE: {min_step3[0], min_step3[3]}\")\n",
    "    min_avg = min(result, key=lambda x: x[4])\n",
    "    print(f\"Best AVG & RMSE: {min_avg[0], min_avg[4]}\")\n",
    "    \n",
    "p_values = range(0, 6)\n",
    "d_values = range(0, 1) \n",
    "q_values = range(0, 6)\n",
    "evaluate_models_direct_cv_step(train, p_values, d_values, q_values, 3, 5)"
   ]
  },
  {
   "cell_type": "markdown",
   "id": "8d7fb379",
   "metadata": {},
   "source": [
    "**Method 2: recursive multi-step forecast**"
   ]
  },
  {
   "cell_type": "code",
   "execution_count": 6,
   "id": "4254dc5a",
   "metadata": {},
   "outputs": [],
   "source": [
    "def evaluate_models_recursive_cv(dataset, p_values, d_values, q_values, step, k_fold):\n",
    "    result = []\n",
    "    for p in p_values:\n",
    "        for d in d_values:\n",
    "            for q in q_values:\n",
    "                order = (p,d,q)\n",
    "                validation_size=step\n",
    "                train_size=len(dataset)-k_fold*step\n",
    "                rmse1=0\n",
    "                rmse2=0\n",
    "                rmse3=0\n",
    "                rmseavg = 0\n",
    "                for k in range(0,k_fold):\n",
    "                    train, test = dataset[0:train_size+k*validation_size], \\\n",
    "                        dataset[train_size+k*validation_size:train_size+k*validation_size+3]\n",
    "                    model = ARIMA(train, order=order) \n",
    "                    model_fit = model.fit()\n",
    "                    prediction1 = model_fit.forecast(1)\n",
    "                    rmse1 = rmse1 + skmetrics.mean_squared_error(test[:1], prediction1)\n",
    "\n",
    "                    train = train.append(prediction1)  # Add prior prediction to training set \n",
    "                    model = ARIMA(train, order=order)\n",
    "                    model_fit = model.fit()\n",
    "                    prediction2 = model_fit.forecast(1)\n",
    "                    rmse2 = rmse2 + skmetrics.mean_squared_error(test[1:2], prediction2)\n",
    "\n",
    "                    train = train.append(prediction2)  # Add prior prediction to training set \n",
    "                    model = ARIMA(train, order=order)\n",
    "                    model_fit = model.fit()\n",
    "                    prediction3 = model_fit.forecast(1)\n",
    "                    rmse3 = rmse3 + skmetrics.mean_squared_error(test[2:], prediction3)\n",
    "\n",
    "\n",
    "                    rmseavg = rmseavg + np.sqrt((skmetrics.mean_squared_error(test[:1], prediction1) \\\n",
    "                                                 + skmetrics.mean_squared_error(test[1:2], prediction2) \\\n",
    "                                                 + skmetrics.mean_squared_error(test[2:], prediction3))/3)\n",
    "                    \n",
    "                rmse1_avg=np.sqrt(rmse1/k_fold)\n",
    "                rmse2_avg=np.sqrt(rmse2/k_fold)\n",
    "                rmse3_avg=np.sqrt(rmse3/k_fold)\n",
    "                rmse_avg = rmseavg/k_fold\n",
    "                result.append((order, rmse1_avg, rmse2_avg, rmse3_avg, rmse_avg))\n",
    "                \n",
    "    min_step1 = min(result, key=lambda x: x[1])\n",
    "    print(f\"Best Step1 & RMSE: {min_step1[0], min_step1[1]}\")\n",
    "    min_step2 = min(result, key=lambda x: x[2])\n",
    "    print(f\"Best Step2 & RMSE: {min_step2[0], min_step2[2]}\")\n",
    "    min_step3 = min(result, key=lambda x: x[3])\n",
    "    print(f\"Best Step3 & RMSE: {min_step3[0], min_step3[3]}\")\n",
    "    min_avg = min(result, key=lambda x: x[4])\n",
    "    print(f\"Best AVG & RMSE: {min_avg[0], min_avg[4]}\")\n"
   ]
  },
  {
   "cell_type": "code",
   "execution_count": 7,
   "id": "937ad92f",
   "metadata": {},
   "outputs": [
    {
     "name": "stdout",
     "output_type": "stream",
     "text": [
      "Best Step1 & RMSE: ((0, 0, 0), 0.8536881722355835)\n",
      "Best Step2 & RMSE: ((0, 0, 0), 0.6987338693536749)\n",
      "Best Step3 & RMSE: ((0, 0, 4), 0.7352481070053898)\n",
      "Best AVG & RMSE: ((0, 0, 0), 0.7931228710218959)\n"
     ]
    }
   ],
   "source": [
    "p_values = range(0, 6)\n",
    "d_values = range(0, 1) \n",
    "q_values = range(0, 6)\n",
    "evaluate_models_recursive_cv(train, p_values, d_values, q_values, 3, 5)\n"
   ]
  }
 ],
 "metadata": {
  "kernelspec": {
   "display_name": "Python 3 (ipykernel)",
   "language": "python",
   "name": "python3"
  },
  "language_info": {
   "codemirror_mode": {
    "name": "ipython",
    "version": 3
   },
   "file_extension": ".py",
   "mimetype": "text/x-python",
   "name": "python",
   "nbconvert_exporter": "python",
   "pygments_lexer": "ipython3",
   "version": "3.11.3"
  }
 },
 "nbformat": 4,
 "nbformat_minor": 5
}
