{
 "cells": [
  {
   "cell_type": "code",
   "execution_count": 17,
   "metadata": {},
   "outputs": [],
   "source": [
    "from statsmodels.tsa.arima.model import ARIMA\n",
    "from statsmodels.tsa.arima_process import ArmaProcess\n",
    "import matplotlib.pyplot as plt\n",
    "import numpy as np\n",
    "import pandas as pd\n",
    "import statsmodels.api as sm\n",
    "from statsmodels.graphics.tsaplots import plot_acf\n",
    "from statsmodels.graphics.tsaplots import plot_pacf\n",
    "from statsmodels.tsa.stattools import adfuller\n",
    "from tqdm import tqdm #A tqdm progress bar shows you how much time has elapsed and the estimated time remaining for the iterable\n",
    "import sklearn.metrics as skmetrics #For evaluation metrics\n",
    "from sklearn.metrics import mean_squared_error\n",
    "from math import sqrt\n",
    "\n",
    "import warnings                               \n",
    "warnings.filterwarnings('ignore')"
   ]
  },
  {
   "cell_type": "code",
   "execution_count": 18,
   "metadata": {},
   "outputs": [
    {
     "data": {
      "text/html": [
       "<div>\n",
       "<style scoped>\n",
       "    .dataframe tbody tr th:only-of-type {\n",
       "        vertical-align: middle;\n",
       "    }\n",
       "\n",
       "    .dataframe tbody tr th {\n",
       "        vertical-align: top;\n",
       "    }\n",
       "\n",
       "    .dataframe thead th {\n",
       "        text-align: right;\n",
       "    }\n",
       "</style>\n",
       "<table border=\"1\" class=\"dataframe\">\n",
       "  <thead>\n",
       "    <tr style=\"text-align: right;\">\n",
       "      <th></th>\n",
       "      <th>Unnamed: 0</th>\n",
       "      <th>Profit</th>\n",
       "    </tr>\n",
       "  </thead>\n",
       "  <tbody>\n",
       "    <tr>\n",
       "      <th>0</th>\n",
       "      <td>0</td>\n",
       "      <td>-1.134899</td>\n",
       "    </tr>\n",
       "    <tr>\n",
       "      <th>1</th>\n",
       "      <td>1</td>\n",
       "      <td>-0.727930</td>\n",
       "    </tr>\n",
       "    <tr>\n",
       "      <th>2</th>\n",
       "      <td>2</td>\n",
       "      <td>-2.002807</td>\n",
       "    </tr>\n",
       "    <tr>\n",
       "      <th>3</th>\n",
       "      <td>3</td>\n",
       "      <td>-0.958803</td>\n",
       "    </tr>\n",
       "    <tr>\n",
       "      <th>4</th>\n",
       "      <td>4</td>\n",
       "      <td>-1.656102</td>\n",
       "    </tr>\n",
       "    <tr>\n",
       "      <th>...</th>\n",
       "      <td>...</td>\n",
       "      <td>...</td>\n",
       "    </tr>\n",
       "    <tr>\n",
       "      <th>195</th>\n",
       "      <td>195</td>\n",
       "      <td>-0.179615</td>\n",
       "    </tr>\n",
       "    <tr>\n",
       "      <th>196</th>\n",
       "      <td>196</td>\n",
       "      <td>-1.013576</td>\n",
       "    </tr>\n",
       "    <tr>\n",
       "      <th>197</th>\n",
       "      <td>197</td>\n",
       "      <td>-2.148866</td>\n",
       "    </tr>\n",
       "    <tr>\n",
       "      <th>198</th>\n",
       "      <td>198</td>\n",
       "      <td>-2.054297</td>\n",
       "    </tr>\n",
       "    <tr>\n",
       "      <th>199</th>\n",
       "      <td>199</td>\n",
       "      <td>-0.327957</td>\n",
       "    </tr>\n",
       "  </tbody>\n",
       "</table>\n",
       "<p>200 rows × 2 columns</p>\n",
       "</div>"
      ],
      "text/plain": [
       "     Unnamed: 0    Profit\n",
       "0             0 -1.134899\n",
       "1             1 -0.727930\n",
       "2             2 -2.002807\n",
       "3             3 -0.958803\n",
       "4             4 -1.656102\n",
       "..          ...       ...\n",
       "195         195 -0.179615\n",
       "196         196 -1.013576\n",
       "197         197 -2.148866\n",
       "198         198 -2.054297\n",
       "199         199 -0.327957\n",
       "\n",
       "[200 rows x 2 columns]"
      ]
     },
     "execution_count": 18,
     "metadata": {},
     "output_type": "execute_result"
    }
   ],
   "source": [
    "profit = pd.read_csv('./profit.csv')\n",
    "profit"
   ]
  },
  {
   "cell_type": "markdown",
   "metadata": {},
   "source": [
    "### Question 1"
   ]
  },
  {
   "cell_type": "code",
   "execution_count": 20,
   "metadata": {},
   "outputs": [],
   "source": [
    "def evaluate_models_cv(dataset, p_values, d_values, q_values):\n",
    "    result1 = []\n",
    "    result2 = []\n",
    "    result3 = []\n",
    "    best_rmse, best_cfg = float(\"inf\"), None\n",
    "    best_rmse1, best_cfg1 = float(\"inf\"), None\n",
    "    best_rmse2, best_cfg2 = float(\"inf\"), None\n",
    "    best_rmse3, best_cfg3 = float(\"inf\"), None\n",
    "    for p in p_values:\n",
    "        for d in d_values:\n",
    "            for q in q_values:\n",
    "                order = (p,d,q)\n",
    "                validation_size=3\n",
    "                train_size=197-5*validation_size\n",
    "                rmse=0\n",
    "                test1, test2, test3 = [], [], []\n",
    "                pred1, pred2, pred3 = [], [], []\n",
    "                for k in range(0,5):\n",
    "                    train, test = dataset[0:train_size+k*validation_size],dataset[train_size+k*validation_size:train_size+k*validation_size+3]\n",
    "                    model = ARIMA(train, order=order) #each step: rolling one step forward to update the train se\n",
    "                    model_fit = model.fit()\n",
    "                    pred = model_fit.forecast(len(test))\n",
    "                    rmse = rmse+np.sqrt(skmetrics.mean_squared_error(test, pred))\n",
    "                    test1.append(test.iloc[0])\n",
    "                    test2.append(test.iloc[1])\n",
    "                    test3.append(test.iloc[2])\n",
    "                    pred1.append(pred.iloc[0])\n",
    "                    pred2.append(pred.iloc[1])\n",
    "                    pred3.append(pred.iloc[2])\n",
    "                rmse_avg=rmse/5\n",
    "                rmse1 = np.sqrt(skmetrics.mean_squared_error(test1, pred1))\n",
    "                rmse2 = np.sqrt(skmetrics.mean_squared_error(test2, pred2))\n",
    "                rmse3 = np.sqrt(skmetrics.mean_squared_error(test3, pred3))\n",
    "                \n",
    "                if rmse_avg < best_rmse:\n",
    "                    best_rmse, best_cfg = rmse_avg, order\n",
    "                    print('Average 3: ARIMA%s RMSE=%.3f' % (order,rmse_avg))\n",
    "\n",
    "                if rmse1 < best_rmse1:\n",
    "                    best_rmse1, best_cfg1 = rmse1, order\n",
    "                    print('Step1:  ARIMA%s RMSE=%.3f' % (order,rmse1))\n",
    "\n",
    "                if rmse2 < best_rmse2:\n",
    "                    best_rmse2, best_cfg2 = rmse2, order\n",
    "                    print('Step2:  ARIMA%s RMSE=%.3f' % (order,rmse2))\n",
    "\n",
    "                if rmse3 < best_rmse3:\n",
    "                    best_rmse3, best_cfg3 = rmse3, order\n",
    "                    print('Step3:  ARIMA%s RMSE=%.3f' % (order,rmse3))\n",
    "\n",
    "    print('------------------------------------------------------')\n",
    "    print('Step1: Best ARIMA%s RMSE=%.3f' % (best_cfg1, best_rmse1))\n",
    "    print('Step2: Best ARIMA%s RMSE=%.3f' % (best_cfg2, best_rmse2))\n",
    "    print('Step3: Best ARIMA%s RMSE=%.3f' % (best_cfg3, best_rmse3))\n",
    "    print('Average 3: Best ARIMA%s RMSE=%.3f' % (best_cfg, best_rmse))\n",
    "    #return result"
   ]
  },
  {
   "cell_type": "code",
   "execution_count": 21,
   "metadata": {},
   "outputs": [
    {
     "name": "stdout",
     "output_type": "stream",
     "text": [
      "Average 3: ARIMA(0, 0, 0) RMSE=0.793\n",
      "Step1:  ARIMA(0, 0, 0) RMSE=0.854\n",
      "Step2:  ARIMA(0, 0, 0) RMSE=0.699\n",
      "Step3:  ARIMA(0, 0, 0) RMSE=0.923\n",
      "Step3:  ARIMA(0, 0, 1) RMSE=0.918\n",
      "Step3:  ARIMA(0, 0, 2) RMSE=0.915\n",
      "Step3:  ARIMA(0, 0, 3) RMSE=0.790\n",
      "Step3:  ARIMA(0, 0, 4) RMSE=0.735\n",
      "------------------------------------------------------\n",
      "Step1: Best ARIMA(0, 0, 0) RMSE=0.854\n",
      "Step2: Best ARIMA(0, 0, 0) RMSE=0.699\n",
      "Step3: Best ARIMA(0, 0, 4) RMSE=0.735\n",
      "Average 3: Best ARIMA(0, 0, 0) RMSE=0.793\n"
     ]
    }
   ],
   "source": [
    "p_values = range(0, 5)\n",
    "d_values = range(0, 1) #set d=0 for ARMA(p,q) model\n",
    "q_values = range(0, 5)\n",
    "evaluate_models_cv(profit['Profit'], p_values, d_values, q_values)"
   ]
  },
  {
   "cell_type": "markdown",
   "metadata": {},
   "source": [
    "### Question 2"
   ]
  },
  {
   "cell_type": "code",
   "execution_count": 28,
   "metadata": {},
   "outputs": [],
   "source": [
    "def evaluate_models_cv2(dataset, p_values, d_values, q_values):\n",
    "    result1 = []\n",
    "    result2 = []\n",
    "    result3 = []\n",
    "    best_rmse, best_cfg = float(\"inf\"), None\n",
    "    best_rmse1, best_cfg1 = float(\"inf\"), None\n",
    "    best_rmse2, best_cfg2 = float(\"inf\"), None\n",
    "    best_rmse3, best_cfg3 = float(\"inf\"), None\n",
    "    for p in p_values:\n",
    "        for d in d_values:\n",
    "            for q in q_values:\n",
    "                order = (p,d,q)\n",
    "                validation_size=3\n",
    "                train_size=197-5*validation_size\n",
    "                rmse=0\n",
    "                test1, test2, test3 = [], [], []\n",
    "                pred1, pred2, pred3 = [], [], []\n",
    "                for k in range(0,5):\n",
    "                    # step 1\n",
    "                    train_1, test_1 = dataset[0:train_size+k*validation_size],dataset[train_size+k*validation_size]\n",
    "                    model1 = ARIMA(train_1, order=order) #each step: rolling one step forward to update the train se\n",
    "                    model1_fit = model1.fit()\n",
    "                    pred_1 = model1_fit.forecast(1)\n",
    "                    test1.append(test_1)\n",
    "                    pred1.append(pred_1)\n",
    "                    \n",
    "                    # step 2\n",
    "                    train_2, test_2 = pd.concat([train_1,pred_1]), dataset[train_size+k*validation_size+1]\n",
    "                    model2 = ARIMA(train_2, order=order) #each step: rolling one step forward to update the train se\n",
    "                    model2_fit = model2.fit()\n",
    "                    pred_2 = model2_fit.forecast(1)\n",
    "                    test2.append(test_2)\n",
    "                    pred2.append(pred_2)\n",
    "\n",
    "                    # step 3\n",
    "                    train_3, test_3 = pd.concat([train_2,pred_2]), dataset[train_size+k*validation_size+2]\n",
    "                    model3 = ARIMA(train_3, order=order) #each step: rolling one step forward to update the train se\n",
    "                    model3_fit = model3.fit()\n",
    "                    pred_3 = model3_fit.forecast(1)\n",
    "                    test3.append(test_3)\n",
    "                    pred3.append(pred_3)\n",
    "\n",
    "                    rmse = rmse+np.sqrt(skmetrics.mean_squared_error([test_1, test_2, test_3], [pred_1, pred_2, pred_3]))\n",
    "\n",
    "                rmse_avg=rmse/5\n",
    "                rmse1 = np.sqrt(skmetrics.mean_squared_error(test1, pred1))\n",
    "                rmse2 = np.sqrt(skmetrics.mean_squared_error(test2, pred2))\n",
    "                rmse3 = np.sqrt(skmetrics.mean_squared_error(test3, pred3))\n",
    "                \n",
    "                if rmse_avg < best_rmse:\n",
    "                    best_rmse, best_cfg = rmse_avg, order\n",
    "                    print('Average 3: ARIMA%s RMSE=%.3f' % (order,rmse_avg))\n",
    "\n",
    "                if rmse1 < best_rmse1:\n",
    "                    best_rmse1, best_cfg1 = rmse1, order\n",
    "                    print('Step1:  ARIMA%s RMSE=%.3f' % (order,rmse1))\n",
    "\n",
    "                if rmse2 < best_rmse2:\n",
    "                    best_rmse2, best_cfg2 = rmse2, order\n",
    "                    print('Step2:  ARIMA%s RMSE=%.3f' % (order,rmse2))\n",
    "\n",
    "                if rmse3 < best_rmse3:\n",
    "                    best_rmse3, best_cfg3 = rmse3, order\n",
    "                    print('Step3:  ARIMA%s RMSE=%.3f' % (order,rmse3))\n",
    "\n",
    "    print('------------------------------------------------------')\n",
    "    print('Step1: Best ARIMA%s RMSE=%.3f' % (best_cfg1, best_rmse1))\n",
    "    print('Step2: Best ARIMA%s RMSE=%.3f' % (best_cfg2, best_rmse2))\n",
    "    print('Step3: Best ARIMA%s RMSE=%.3f' % (best_cfg3, best_rmse3))\n",
    "    print('Average 3: Best ARIMA%s RMSE=%.3f' % (best_cfg, best_rmse))\n",
    "    #return result"
   ]
  },
  {
   "cell_type": "code",
   "execution_count": 29,
   "metadata": {},
   "outputs": [
    {
     "name": "stdout",
     "output_type": "stream",
     "text": [
      "Average 3: ARIMA(0, 0, 0) RMSE=0.793\n",
      "Step1:  ARIMA(0, 0, 0) RMSE=0.854\n",
      "Step2:  ARIMA(0, 0, 0) RMSE=0.699\n",
      "Step3:  ARIMA(0, 0, 0) RMSE=0.923\n",
      "Step3:  ARIMA(0, 0, 1) RMSE=0.918\n",
      "Step3:  ARIMA(0, 0, 2) RMSE=0.915\n",
      "Step3:  ARIMA(0, 0, 3) RMSE=0.790\n",
      "Step3:  ARIMA(0, 0, 4) RMSE=0.735\n",
      "------------------------------------------------------\n",
      "Step1: Best ARIMA(0, 0, 0) RMSE=0.854\n",
      "Step2: Best ARIMA(0, 0, 0) RMSE=0.699\n",
      "Step3: Best ARIMA(0, 0, 4) RMSE=0.735\n",
      "Average 3: Best ARIMA(0, 0, 0) RMSE=0.793\n"
     ]
    }
   ],
   "source": [
    "p_values = range(0, 5)\n",
    "d_values = range(0, 1) #set d=0 for ARMA(p,q) model\n",
    "q_values = range(0, 5)\n",
    "evaluate_models_cv2(profit['Profit'], p_values, d_values, q_values)"
   ]
  },
  {
   "cell_type": "markdown",
   "metadata": {},
   "source": [
    "### Question 3"
   ]
  },
  {
   "cell_type": "code",
   "execution_count": 24,
   "metadata": {},
   "outputs": [
    {
     "data": {
      "text/plain": [
       "2.3828444918210905"
      ]
     },
     "execution_count": 24,
     "metadata": {},
     "output_type": "execute_result"
    }
   ],
   "source": [
    "# method 1\n",
    "data = profit['Profit']\n",
    "train, test = data[0:197], data[197:200]\n",
    "model = ARIMA(train, order=(0, 0, 0))\n",
    "model_fit = model.fit()\n",
    "prediction = model_fit.forecast(3)\n",
    "rmse = np.sqrt(skmetrics.mean_squared_error(test, prediction))\n",
    "rmse"
   ]
  },
  {
   "cell_type": "code",
   "execution_count": 25,
   "metadata": {},
   "outputs": [
    {
     "data": {
      "text/plain": [
       "2.3828444749108417"
      ]
     },
     "execution_count": 25,
     "metadata": {},
     "output_type": "execute_result"
    }
   ],
   "source": [
    "# method 2\n",
    "data = profit['Profit']\n",
    "\n",
    "# step 1\n",
    "train1, test1 = data[0:197], data[197]\n",
    "model1 = ARIMA(train1, order=(0, 0, 0))\n",
    "model1_fit = model1.fit()\n",
    "pred1 = model1_fit.forecast(1)\n",
    "\n",
    "# step 2\n",
    "train2, test2 = pd.concat([train1,pred1]), data[198]\n",
    "model2 = ARIMA(train2, order=(0, 0, 0))\n",
    "model2_fit = model2.fit()\n",
    "pred2 = model2_fit.forecast(1)\n",
    "\n",
    "# step 3\n",
    "train3, test3 = pd.concat([train2,pred2]), data[199]\n",
    "model3 = ARIMA(train3, order=(0, 0, 0))\n",
    "model3_fit = model3.fit()\n",
    "pred3 = model3_fit.forecast(1)\n",
    "\n",
    "rmse = np.sqrt(skmetrics.mean_squared_error([test1, test2, test3], [pred1, pred2, pred3]))\n",
    "rmse"
   ]
  },
  {
   "cell_type": "markdown",
   "metadata": {},
   "source": [
    "### Question 4"
   ]
  },
  {
   "cell_type": "code",
   "execution_count": 26,
   "metadata": {},
   "outputs": [
    {
     "data": {
      "image/png": "[encoded data removed]",
      "text/plain": [
       "<Figure size 1200x500 with 1 Axes>"
      ]
     },
     "metadata": {},
     "output_type": "display_data"
    }
   ],
   "source": [
    "# method 1 \n",
    "data = profit['Profit']\n",
    "train, test = data[0:197], data[197:200]\n",
    "model = ARIMA(train, order=(0, 0, 0))\n",
    "model_fit = model.fit()\n",
    "prediction = model_fit.forecast(3)\n",
    "\n",
    "history = data[177:197]\n",
    "\n",
    "\n",
    "pd.plotting.register_matplotlib_converters()\n",
    "f, ax = plt.subplots(figsize=(12,5))\n",
    "history.plot(kind='line',y='x',color='blue', label='history', ax=ax)\n",
    "test.plot(kind='line',y='x',color='orange', label='test data', ax=ax)\n",
    "prediction.plot(kind='line',x='index',y='mean',color='green', label='test forcast', ax=ax)\n",
    "plt.legend()\n",
    "plt.title('Method 1')\n",
    "plt.show()\n"
   ]
  },
  {
   "cell_type": "code",
   "execution_count": 27,
   "metadata": {},
   "outputs": [
    {
     "data": {
      "image/png": "[encoded data removed]",
      "text/plain": [
       "<Figure size 1200x500 with 1 Axes>"
      ]
     },
     "metadata": {},
     "output_type": "display_data"
    }
   ],
   "source": [
    "# method 2\n",
    "data = profit['Profit']\n",
    "\n",
    "# step 1\n",
    "train1, test1 = data[0:197], data[197]\n",
    "model1 = ARIMA(train1, order=(0, 0, 0))\n",
    "model1_fit = model1.fit()\n",
    "pred1 = model1_fit.forecast(1)\n",
    "\n",
    "# step 2\n",
    "train2, test2 = data[0:198], data[198]\n",
    "model2 = ARIMA(train2, order=(0, 0, 0))\n",
    "model2_fit = model2.fit()\n",
    "pred2 = model2_fit.forecast(1)\n",
    "\n",
    "# step 3\n",
    "train3, test3 = data[0:199], data[199]\n",
    "model3 = ARIMA(train3, order=(0, 0, 0))\n",
    "model3_fit = model3.fit()\n",
    "pred3 = model3_fit.forecast(1)\n",
    "\n",
    "history = data[177:197]\n",
    "test = data[197:200]\n",
    "prediction = pd.concat([pred1, pred2, pred3])\n",
    "\n",
    "pd.plotting.register_matplotlib_converters()\n",
    "f, ax = plt.subplots(figsize=(12,5))\n",
    "history.plot(kind='line',y='x',color='blue', label='history', ax=ax)\n",
    "test.plot(kind='line',y='x',color='orange', label='test data', ax=ax)\n",
    "prediction.plot(kind='line',x='index',y='mean',color='green', label='test forcast', ax=ax)\n",
    "plt.legend()\n",
    "plt.title('Method 2')\n",
    "plt.show()\n"
   ]
  },
  {
   "cell_type": "code",
   "execution_count": null,
   "metadata": {},
   "outputs": [],
   "source": []
  }
 ],
 "metadata": {
  "kernelspec": {
   "display_name": "linear_regession",
   "language": "python",
   "name": "python3"
  },
  "language_info": {
   "codemirror_mode": {
    "name": "ipython",
    "version": 3
   },
   "file_extension": ".py",
   "mimetype": "text/x-python",
   "name": "python",
   "nbconvert_exporter": "python",
   "pygments_lexer": "ipython3",
   "version": "3.11.4"
  }
 },
 "nbformat": 4,
 "nbformat_minor": 2
}
