{
 "cells": [
  {
   "cell_type": "code",
   "execution_count": null,
   "metadata": {},
   "outputs": [
    {
     "name": "stderr",
     "output_type": "stream",
     "text": [
      "/opt/homebrew/anaconda3/envs/linear_regession/lib/python3.11/site-packages/tqdm/auto.py:21: TqdmWarning: IProgress not found. Please update jupyter and ipywidgets. See https://ipywidgets.readthedocs.io/en/stable/user_install.html\n",
      "  from .autonotebook import tqdm as notebook_tqdm\n"
     ]
    }
   ],
   "source": [
    "import matplotlib.pyplot as plt\n",
    "import numpy as np\n",
    "import pandas as pd\n",
    "import statsmodels as sm\n",
    "from statsmodels.graphics.tsaplots import plot_acf\n",
    "from statsmodels.graphics.tsaplots import plot_pacf\n",
    "from statsmodels.tsa.holtwinters import ExponentialSmoothing\n",
    "from statsmodels.tsa.forecasting.theta import ThetaModel\n",
    "import sklearn.metrics as skmetrics #For evaluation metrics\n",
    "\n",
    "from prophet import Prophet\n",
    "\n",
    "import warnings                               \n",
    "warnings.filterwarnings('ignore')"
   ]
  },
  {
   "cell_type": "code",
   "execution_count": 121,
   "metadata": {},
   "outputs": [],
   "source": [
    "df = pd.read_csv('./data/AEP_hourly.csv')\n",
    "df['ds'] = pd.to_datetime(df['Datetime'])\n",
    "df = df.sort_values(by='ds')\n",
    "df['y'] = df['AEP_MW']\n",
    "train = df[df['ds']<=pd.to_datetime('2015-12-31 23:59:59')]\n",
    "test = df[df['ds']>pd.to_datetime('2015-12-31 23:59:59')]"
   ]
  },
  {
   "cell_type": "code",
   "execution_count": 122,
   "metadata": {},
   "outputs": [
    {
     "data": {
      "text/plain": [
       "(                  Datetime   AEP_MW                  ds        y\n",
       " 2183   2004-10-01 01:00:00  12379.0 2004-10-01 01:00:00  12379.0\n",
       " 2184   2004-10-01 02:00:00  11935.0 2004-10-01 02:00:00  11935.0\n",
       " 2185   2004-10-01 03:00:00  11692.0 2004-10-01 03:00:00  11692.0\n",
       " 2186   2004-10-01 04:00:00  11597.0 2004-10-01 04:00:00  11597.0\n",
       " 2187   2004-10-01 05:00:00  11681.0 2004-10-01 05:00:00  11681.0\n",
       " ...                    ...      ...                 ...      ...\n",
       " 89852  2015-12-31 19:00:00  15360.0 2015-12-31 19:00:00  15360.0\n",
       " 89853  2015-12-31 20:00:00  15030.0 2015-12-31 20:00:00  15030.0\n",
       " 89854  2015-12-31 21:00:00  14642.0 2015-12-31 21:00:00  14642.0\n",
       " 89855  2015-12-31 22:00:00  14212.0 2015-12-31 22:00:00  14212.0\n",
       " 89856  2015-12-31 23:00:00  13843.0 2015-12-31 23:00:00  13843.0\n",
       " \n",
       " [98593 rows x 4 columns],\n",
       " 98593)"
      ]
     },
     "execution_count": 122,
     "metadata": {},
     "output_type": "execute_result"
    }
   ],
   "source": [
    "train, len(train)"
   ]
  },
  {
   "cell_type": "code",
   "execution_count": 123,
   "metadata": {},
   "outputs": [
    {
     "data": {
      "text/plain": [
       "(                   Datetime   AEP_MW                  ds        y\n",
       " 89857   2016-01-01 00:00:00  13487.0 2016-01-01 00:00:00  13487.0\n",
       " 107354  2016-01-01 01:00:00  13135.0 2016-01-01 01:00:00  13135.0\n",
       " 107355  2016-01-01 02:00:00  12912.0 2016-01-01 02:00:00  12912.0\n",
       " 107356  2016-01-01 03:00:00  12685.0 2016-01-01 03:00:00  12685.0\n",
       " 107357  2016-01-01 04:00:00  12631.0 2016-01-01 04:00:00  12631.0\n",
       " ...                     ...      ...                 ...      ...\n",
       " 116157  2018-08-02 20:00:00  17673.0 2018-08-02 20:00:00  17673.0\n",
       " 116158  2018-08-02 21:00:00  17303.0 2018-08-02 21:00:00  17303.0\n",
       " 116159  2018-08-02 22:00:00  17001.0 2018-08-02 22:00:00  17001.0\n",
       " 116160  2018-08-02 23:00:00  15964.0 2018-08-02 23:00:00  15964.0\n",
       " 116161  2018-08-03 00:00:00  14809.0 2018-08-03 00:00:00  14809.0\n",
       " \n",
       " [22680 rows x 4 columns],\n",
       " 22680)"
      ]
     },
     "execution_count": 123,
     "metadata": {},
     "output_type": "execute_result"
    }
   ],
   "source": [
    "test, len(test)"
   ]
  },
  {
   "cell_type": "code",
   "execution_count": 124,
   "metadata": {},
   "outputs": [
    {
     "name": "stderr",
     "output_type": "stream",
     "text": [
      "14:37:39 - cmdstanpy - INFO - Chain [1] start processing\n",
      "14:37:55 - cmdstanpy - INFO - Chain [1] done processing\n"
     ]
    },
    {
     "data": {
      "text/html": [
       "<div>\n",
       "<style scoped>\n",
       "    .dataframe tbody tr th:only-of-type {\n",
       "        vertical-align: middle;\n",
       "    }\n",
       "\n",
       "    .dataframe tbody tr th {\n",
       "        vertical-align: top;\n",
       "    }\n",
       "\n",
       "    .dataframe thead th {\n",
       "        text-align: right;\n",
       "    }\n",
       "</style>\n",
       "<table border=\"1\" class=\"dataframe\">\n",
       "  <thead>\n",
       "    <tr style=\"text-align: right;\">\n",
       "      <th></th>\n",
       "      <th>ds</th>\n",
       "      <th>yhat</th>\n",
       "      <th>yhat_lower</th>\n",
       "      <th>yhat_upper</th>\n",
       "    </tr>\n",
       "  </thead>\n",
       "  <tbody>\n",
       "    <tr>\n",
       "      <th>121267</th>\n",
       "      <td>2018-08-02 20:00:00</td>\n",
       "      <td>16632.215734</td>\n",
       "      <td>6777.586829</td>\n",
       "      <td>27300.965377</td>\n",
       "    </tr>\n",
       "    <tr>\n",
       "      <th>121268</th>\n",
       "      <td>2018-08-02 21:00:00</td>\n",
       "      <td>16484.788142</td>\n",
       "      <td>6534.245510</td>\n",
       "      <td>27366.476779</td>\n",
       "    </tr>\n",
       "    <tr>\n",
       "      <th>121269</th>\n",
       "      <td>2018-08-02 22:00:00</td>\n",
       "      <td>15992.422408</td>\n",
       "      <td>6018.000567</td>\n",
       "      <td>26415.739606</td>\n",
       "    </tr>\n",
       "    <tr>\n",
       "      <th>121270</th>\n",
       "      <td>2018-08-02 23:00:00</td>\n",
       "      <td>15228.405544</td>\n",
       "      <td>5589.378262</td>\n",
       "      <td>26106.970432</td>\n",
       "    </tr>\n",
       "    <tr>\n",
       "      <th>121271</th>\n",
       "      <td>2018-08-03 00:00:00</td>\n",
       "      <td>14365.434594</td>\n",
       "      <td>4468.472845</td>\n",
       "      <td>24910.342092</td>\n",
       "    </tr>\n",
       "  </tbody>\n",
       "</table>\n",
       "</div>"
      ],
      "text/plain": [
       "                        ds          yhat   yhat_lower    yhat_upper\n",
       "121267 2018-08-02 20:00:00  16632.215734  6777.586829  27300.965377\n",
       "121268 2018-08-02 21:00:00  16484.788142  6534.245510  27366.476779\n",
       "121269 2018-08-02 22:00:00  15992.422408  6018.000567  26415.739606\n",
       "121270 2018-08-02 23:00:00  15228.405544  5589.378262  26106.970432\n",
       "121271 2018-08-03 00:00:00  14365.434594  4468.472845  24910.342092"
      ]
     },
     "execution_count": 124,
     "metadata": {},
     "output_type": "execute_result"
    }
   ],
   "source": [
    "#Prophet project\n",
    "m = Prophet()\n",
    "\n",
    "#Fit with default settings\n",
    "m.fit(train)\n",
    "#Fataframe with forecasting steps\n",
    "future = m.make_future_dataframe(periods=len(test)+1, freq='H')\n",
    "#Forecast\n",
    "forecast = m.predict(future)\n",
    "forecast[['ds', 'yhat', 'yhat_lower', 'yhat_upper']].tail()"
   ]
  },
  {
   "cell_type": "code",
   "execution_count": 125,
   "metadata": {},
   "outputs": [
    {
     "data": {
      "text/html": [
       "<div>\n",
       "<style scoped>\n",
       "    .dataframe tbody tr th:only-of-type {\n",
       "        vertical-align: middle;\n",
       "    }\n",
       "\n",
       "    .dataframe tbody tr th {\n",
       "        vertical-align: top;\n",
       "    }\n",
       "\n",
       "    .dataframe thead th {\n",
       "        text-align: right;\n",
       "    }\n",
       "</style>\n",
       "<table border=\"1\" class=\"dataframe\">\n",
       "  <thead>\n",
       "    <tr style=\"text-align: right;\">\n",
       "      <th></th>\n",
       "      <th>ds</th>\n",
       "      <th>yhat</th>\n",
       "    </tr>\n",
       "  </thead>\n",
       "  <tbody>\n",
       "    <tr>\n",
       "      <th>121267</th>\n",
       "      <td>2018-08-02 20:00:00</td>\n",
       "      <td>16632.215734</td>\n",
       "    </tr>\n",
       "    <tr>\n",
       "      <th>121268</th>\n",
       "      <td>2018-08-02 21:00:00</td>\n",
       "      <td>16484.788142</td>\n",
       "    </tr>\n",
       "    <tr>\n",
       "      <th>121269</th>\n",
       "      <td>2018-08-02 22:00:00</td>\n",
       "      <td>15992.422408</td>\n",
       "    </tr>\n",
       "    <tr>\n",
       "      <th>121270</th>\n",
       "      <td>2018-08-02 23:00:00</td>\n",
       "      <td>15228.405544</td>\n",
       "    </tr>\n",
       "    <tr>\n",
       "      <th>121271</th>\n",
       "      <td>2018-08-03 00:00:00</td>\n",
       "      <td>14365.434594</td>\n",
       "    </tr>\n",
       "  </tbody>\n",
       "</table>\n",
       "</div>"
      ],
      "text/plain": [
       "                        ds          yhat\n",
       "121267 2018-08-02 20:00:00  16632.215734\n",
       "121268 2018-08-02 21:00:00  16484.788142\n",
       "121269 2018-08-02 22:00:00  15992.422408\n",
       "121270 2018-08-02 23:00:00  15228.405544\n",
       "121271 2018-08-03 00:00:00  14365.434594"
      ]
     },
     "execution_count": 125,
     "metadata": {},
     "output_type": "execute_result"
    }
   ],
   "source": [
    "forecast[['ds', 'yhat']].tail()"
   ]
  },
  {
   "cell_type": "code",
   "execution_count": 138,
   "metadata": {},
   "outputs": [],
   "source": [
    "test[test['ds']==pd.to_datetime('2016-11-06 02:00:00')]\n",
    "test_p = test.drop([99916,108724], axis=0)"
   ]
  },
  {
   "cell_type": "code",
   "execution_count": 139,
   "metadata": {},
   "outputs": [
    {
     "data": {
      "text/plain": [
       "1938.1879935824197"
      ]
     },
     "execution_count": 139,
     "metadata": {},
     "output_type": "execute_result"
    }
   ],
   "source": [
    "predict = forecast[forecast['ds'].isin(test['ds'])]\n",
    "np.sqrt(skmetrics.mean_squared_error(test_p['y'], predict['yhat']))"
   ]
  },
  {
   "cell_type": "code",
   "execution_count": 135,
   "metadata": {},
   "outputs": [
    {
     "name": "stderr",
     "output_type": "stream",
     "text": [
      "14:39:14 - cmdstanpy - INFO - Chain [1] start processing\n",
      "14:39:36 - cmdstanpy - INFO - Chain [1] done processing\n"
     ]
    },
    {
     "data": {
      "text/html": [
       "<div>\n",
       "<style scoped>\n",
       "    .dataframe tbody tr th:only-of-type {\n",
       "        vertical-align: middle;\n",
       "    }\n",
       "\n",
       "    .dataframe tbody tr th {\n",
       "        vertical-align: top;\n",
       "    }\n",
       "\n",
       "    .dataframe thead th {\n",
       "        text-align: right;\n",
       "    }\n",
       "</style>\n",
       "<table border=\"1\" class=\"dataframe\">\n",
       "  <thead>\n",
       "    <tr style=\"text-align: right;\">\n",
       "      <th></th>\n",
       "      <th>ds</th>\n",
       "      <th>yhat</th>\n",
       "      <th>yhat_lower</th>\n",
       "      <th>yhat_upper</th>\n",
       "    </tr>\n",
       "  </thead>\n",
       "  <tbody>\n",
       "    <tr>\n",
       "      <th>121267</th>\n",
       "      <td>2018-08-02 20:00:00</td>\n",
       "      <td>16655.162215</td>\n",
       "      <td>5706.255721</td>\n",
       "      <td>27089.344371</td>\n",
       "    </tr>\n",
       "    <tr>\n",
       "      <th>121268</th>\n",
       "      <td>2018-08-02 21:00:00</td>\n",
       "      <td>16506.586155</td>\n",
       "      <td>5642.457968</td>\n",
       "      <td>26581.606802</td>\n",
       "    </tr>\n",
       "    <tr>\n",
       "      <th>121269</th>\n",
       "      <td>2018-08-02 22:00:00</td>\n",
       "      <td>16013.006810</td>\n",
       "      <td>4936.067275</td>\n",
       "      <td>26391.236363</td>\n",
       "    </tr>\n",
       "    <tr>\n",
       "      <th>121270</th>\n",
       "      <td>2018-08-02 23:00:00</td>\n",
       "      <td>15247.698930</td>\n",
       "      <td>4777.912802</td>\n",
       "      <td>25658.764835</td>\n",
       "    </tr>\n",
       "    <tr>\n",
       "      <th>121271</th>\n",
       "      <td>2018-08-03 00:00:00</td>\n",
       "      <td>14383.351531</td>\n",
       "      <td>3170.948059</td>\n",
       "      <td>24865.025132</td>\n",
       "    </tr>\n",
       "  </tbody>\n",
       "</table>\n",
       "</div>"
      ],
      "text/plain": [
       "                        ds          yhat   yhat_lower    yhat_upper\n",
       "121267 2018-08-02 20:00:00  16655.162215  5706.255721  27089.344371\n",
       "121268 2018-08-02 21:00:00  16506.586155  5642.457968  26581.606802\n",
       "121269 2018-08-02 22:00:00  16013.006810  4936.067275  26391.236363\n",
       "121270 2018-08-02 23:00:00  15247.698930  4777.912802  25658.764835\n",
       "121271 2018-08-03 00:00:00  14383.351531  3170.948059  24865.025132"
      ]
     },
     "execution_count": 135,
     "metadata": {},
     "output_type": "execute_result"
    }
   ],
   "source": [
    "#Prophet project\n",
    "m = Prophet()\n",
    "m.add_country_holidays(country_name='US')\n",
    "#Fit with default settings\n",
    "m.fit(train)\n",
    "#Fataframe with forecasting steps\n",
    "future = m.make_future_dataframe(periods=len(test)+1, freq='H')\n",
    "#Forecast\n",
    "forecast1 = m.predict(future)\n",
    "forecast1[['ds', 'yhat', 'yhat_lower', 'yhat_upper']].tail()"
   ]
  },
  {
   "cell_type": "code",
   "execution_count": 136,
   "metadata": {},
   "outputs": [
    {
     "data": {
      "text/html": [
       "<div>\n",
       "<style scoped>\n",
       "    .dataframe tbody tr th:only-of-type {\n",
       "        vertical-align: middle;\n",
       "    }\n",
       "\n",
       "    .dataframe tbody tr th {\n",
       "        vertical-align: top;\n",
       "    }\n",
       "\n",
       "    .dataframe thead th {\n",
       "        text-align: right;\n",
       "    }\n",
       "</style>\n",
       "<table border=\"1\" class=\"dataframe\">\n",
       "  <thead>\n",
       "    <tr style=\"text-align: right;\">\n",
       "      <th></th>\n",
       "      <th>ds</th>\n",
       "      <th>yhat</th>\n",
       "    </tr>\n",
       "  </thead>\n",
       "  <tbody>\n",
       "    <tr>\n",
       "      <th>121267</th>\n",
       "      <td>2018-08-02 20:00:00</td>\n",
       "      <td>16655.162215</td>\n",
       "    </tr>\n",
       "    <tr>\n",
       "      <th>121268</th>\n",
       "      <td>2018-08-02 21:00:00</td>\n",
       "      <td>16506.586155</td>\n",
       "    </tr>\n",
       "    <tr>\n",
       "      <th>121269</th>\n",
       "      <td>2018-08-02 22:00:00</td>\n",
       "      <td>16013.006810</td>\n",
       "    </tr>\n",
       "    <tr>\n",
       "      <th>121270</th>\n",
       "      <td>2018-08-02 23:00:00</td>\n",
       "      <td>15247.698930</td>\n",
       "    </tr>\n",
       "    <tr>\n",
       "      <th>121271</th>\n",
       "      <td>2018-08-03 00:00:00</td>\n",
       "      <td>14383.351531</td>\n",
       "    </tr>\n",
       "  </tbody>\n",
       "</table>\n",
       "</div>"
      ],
      "text/plain": [
       "                        ds          yhat\n",
       "121267 2018-08-02 20:00:00  16655.162215\n",
       "121268 2018-08-02 21:00:00  16506.586155\n",
       "121269 2018-08-02 22:00:00  16013.006810\n",
       "121270 2018-08-02 23:00:00  15247.698930\n",
       "121271 2018-08-03 00:00:00  14383.351531"
      ]
     },
     "execution_count": 136,
     "metadata": {},
     "output_type": "execute_result"
    }
   ],
   "source": [
    "forecast1[['ds', 'yhat']].tail()"
   ]
  },
  {
   "cell_type": "code",
   "execution_count": 140,
   "metadata": {},
   "outputs": [
    {
     "data": {
      "text/plain": [
       "1919.5994983633252"
      ]
     },
     "execution_count": 140,
     "metadata": {},
     "output_type": "execute_result"
    }
   ],
   "source": [
    "predict1 = forecast1[forecast['ds'].isin(test['ds'])]\n",
    "np.sqrt(skmetrics.mean_squared_error(test_p['y'], predict1['yhat']))"
   ]
  },
  {
   "cell_type": "markdown",
   "metadata": {},
   "source": [
    "### Q2"
   ]
  },
  {
   "cell_type": "code",
   "execution_count": 12,
   "metadata": {},
   "outputs": [
    {
     "data": {
      "text/html": [
       "<div>\n",
       "<style scoped>\n",
       "    .dataframe tbody tr th:only-of-type {\n",
       "        vertical-align: middle;\n",
       "    }\n",
       "\n",
       "    .dataframe tbody tr th {\n",
       "        vertical-align: top;\n",
       "    }\n",
       "\n",
       "    .dataframe thead th {\n",
       "        text-align: right;\n",
       "    }\n",
       "</style>\n",
       "<table border=\"1\" class=\"dataframe\">\n",
       "  <thead>\n",
       "    <tr style=\"text-align: right;\">\n",
       "      <th></th>\n",
       "      <th>Date</th>\n",
       "      <th>MedianSoldPrice</th>\n",
       "    </tr>\n",
       "  </thead>\n",
       "  <tbody>\n",
       "    <tr>\n",
       "      <th>0</th>\n",
       "      <td>2008-02-29</td>\n",
       "      <td>470000.0</td>\n",
       "    </tr>\n",
       "    <tr>\n",
       "      <th>1</th>\n",
       "      <td>2008-03-31</td>\n",
       "      <td>441000.0</td>\n",
       "    </tr>\n",
       "    <tr>\n",
       "      <th>2</th>\n",
       "      <td>2008-04-30</td>\n",
       "      <td>460000.0</td>\n",
       "    </tr>\n",
       "    <tr>\n",
       "      <th>3</th>\n",
       "      <td>2008-05-31</td>\n",
       "      <td>429000.0</td>\n",
       "    </tr>\n",
       "    <tr>\n",
       "      <th>4</th>\n",
       "      <td>2008-06-30</td>\n",
       "      <td>437500.0</td>\n",
       "    </tr>\n",
       "    <tr>\n",
       "      <th>...</th>\n",
       "      <td>...</td>\n",
       "      <td>...</td>\n",
       "    </tr>\n",
       "    <tr>\n",
       "      <th>90</th>\n",
       "      <td>2015-08-31</td>\n",
       "      <td>475000.0</td>\n",
       "    </tr>\n",
       "    <tr>\n",
       "      <th>91</th>\n",
       "      <td>2015-09-30</td>\n",
       "      <td>470000.0</td>\n",
       "    </tr>\n",
       "    <tr>\n",
       "      <th>92</th>\n",
       "      <td>2015-10-31</td>\n",
       "      <td>470000.0</td>\n",
       "    </tr>\n",
       "    <tr>\n",
       "      <th>93</th>\n",
       "      <td>2015-11-30</td>\n",
       "      <td>485750.0</td>\n",
       "    </tr>\n",
       "    <tr>\n",
       "      <th>94</th>\n",
       "      <td>2015-12-31</td>\n",
       "      <td>485000.0</td>\n",
       "    </tr>\n",
       "  </tbody>\n",
       "</table>\n",
       "<p>95 rows × 2 columns</p>\n",
       "</div>"
      ],
      "text/plain": [
       "         Date  MedianSoldPrice\n",
       "0  2008-02-29         470000.0\n",
       "1  2008-03-31         441000.0\n",
       "2  2008-04-30         460000.0\n",
       "3  2008-05-31         429000.0\n",
       "4  2008-06-30         437500.0\n",
       "..        ...              ...\n",
       "90 2015-08-31         475000.0\n",
       "91 2015-09-30         470000.0\n",
       "92 2015-10-31         470000.0\n",
       "93 2015-11-30         485750.0\n",
       "94 2015-12-31         485000.0\n",
       "\n",
       "[95 rows x 2 columns]"
      ]
     },
     "execution_count": 12,
     "metadata": {},
     "output_type": "execute_result"
    }
   ],
   "source": [
    "ca = pd.read_csv('./data/zillow-carlifornia-1.csv')\n",
    "ca['Date'] = pd.to_datetime(ca['Date'])\n",
    "ca = ca.sort_values(by='Date')\n",
    "ca = ca.dropna()\n",
    "ca"
   ]
  },
  {
   "cell_type": "code",
   "execution_count": 27,
   "metadata": {},
   "outputs": [
    {
     "data": {
      "text/plain": [
       "[<matplotlib.lines.Line2D at 0x1557f4350>]"
      ]
     },
     "execution_count": 27,
     "metadata": {},
     "output_type": "execute_result"
    },
    {
     "data": {
      "image/png": "[encoded data removed]",
      "text/plain": [
       "<Figure size 640x480 with 1 Axes>"
      ]
     },
     "metadata": {},
     "output_type": "display_data"
    }
   ],
   "source": [
    "plt.plot(ca['Date'],ca['MedianSoldPrice'])"
   ]
  },
  {
   "cell_type": "code",
   "execution_count": 14,
   "metadata": {},
   "outputs": [
    {
     "data": {
      "text/html": [
       "<div>\n",
       "<style scoped>\n",
       "    .dataframe tbody tr th:only-of-type {\n",
       "        vertical-align: middle;\n",
       "    }\n",
       "\n",
       "    .dataframe tbody tr th {\n",
       "        vertical-align: top;\n",
       "    }\n",
       "\n",
       "    .dataframe thead th {\n",
       "        text-align: right;\n",
       "    }\n",
       "</style>\n",
       "<table border=\"1\" class=\"dataframe\">\n",
       "  <thead>\n",
       "    <tr style=\"text-align: right;\">\n",
       "      <th></th>\n",
       "      <th>Date</th>\n",
       "      <th>MedianSoldPrice</th>\n",
       "    </tr>\n",
       "  </thead>\n",
       "  <tbody>\n",
       "    <tr>\n",
       "      <th>0</th>\n",
       "      <td>2008-02-29</td>\n",
       "      <td>470000.0</td>\n",
       "    </tr>\n",
       "    <tr>\n",
       "      <th>1</th>\n",
       "      <td>2008-03-31</td>\n",
       "      <td>441000.0</td>\n",
       "    </tr>\n",
       "    <tr>\n",
       "      <th>2</th>\n",
       "      <td>2008-04-30</td>\n",
       "      <td>460000.0</td>\n",
       "    </tr>\n",
       "    <tr>\n",
       "      <th>3</th>\n",
       "      <td>2008-05-31</td>\n",
       "      <td>429000.0</td>\n",
       "    </tr>\n",
       "    <tr>\n",
       "      <th>4</th>\n",
       "      <td>2008-06-30</td>\n",
       "      <td>437500.0</td>\n",
       "    </tr>\n",
       "    <tr>\n",
       "      <th>...</th>\n",
       "      <td>...</td>\n",
       "      <td>...</td>\n",
       "    </tr>\n",
       "    <tr>\n",
       "      <th>78</th>\n",
       "      <td>2014-08-31</td>\n",
       "      <td>460000.0</td>\n",
       "    </tr>\n",
       "    <tr>\n",
       "      <th>79</th>\n",
       "      <td>2014-09-30</td>\n",
       "      <td>459750.0</td>\n",
       "    </tr>\n",
       "    <tr>\n",
       "      <th>80</th>\n",
       "      <td>2014-10-31</td>\n",
       "      <td>450500.0</td>\n",
       "    </tr>\n",
       "    <tr>\n",
       "      <th>81</th>\n",
       "      <td>2014-11-30</td>\n",
       "      <td>440000.0</td>\n",
       "    </tr>\n",
       "    <tr>\n",
       "      <th>82</th>\n",
       "      <td>2014-12-31</td>\n",
       "      <td>450000.0</td>\n",
       "    </tr>\n",
       "  </tbody>\n",
       "</table>\n",
       "<p>83 rows × 2 columns</p>\n",
       "</div>"
      ],
      "text/plain": [
       "         Date  MedianSoldPrice\n",
       "0  2008-02-29         470000.0\n",
       "1  2008-03-31         441000.0\n",
       "2  2008-04-30         460000.0\n",
       "3  2008-05-31         429000.0\n",
       "4  2008-06-30         437500.0\n",
       "..        ...              ...\n",
       "78 2014-08-31         460000.0\n",
       "79 2014-09-30         459750.0\n",
       "80 2014-10-31         450500.0\n",
       "81 2014-11-30         440000.0\n",
       "82 2014-12-31         450000.0\n",
       "\n",
       "[83 rows x 2 columns]"
      ]
     },
     "execution_count": 14,
     "metadata": {},
     "output_type": "execute_result"
    }
   ],
   "source": [
    "train = ca[:-12]\n",
    "train"
   ]
  },
  {
   "cell_type": "code",
   "execution_count": 19,
   "metadata": {},
   "outputs": [
    {
     "data": {
      "text/html": [
       "<div>\n",
       "<style scoped>\n",
       "    .dataframe tbody tr th:only-of-type {\n",
       "        vertical-align: middle;\n",
       "    }\n",
       "\n",
       "    .dataframe tbody tr th {\n",
       "        vertical-align: top;\n",
       "    }\n",
       "\n",
       "    .dataframe thead th {\n",
       "        text-align: right;\n",
       "    }\n",
       "</style>\n",
       "<table border=\"1\" class=\"dataframe\">\n",
       "  <thead>\n",
       "    <tr style=\"text-align: right;\">\n",
       "      <th></th>\n",
       "      <th>Date</th>\n",
       "      <th>MedianSoldPrice</th>\n",
       "    </tr>\n",
       "  </thead>\n",
       "  <tbody>\n",
       "    <tr>\n",
       "      <th>83</th>\n",
       "      <td>2015-01-31</td>\n",
       "      <td>450000.0</td>\n",
       "    </tr>\n",
       "    <tr>\n",
       "      <th>84</th>\n",
       "      <td>2015-02-28</td>\n",
       "      <td>450000.0</td>\n",
       "    </tr>\n",
       "    <tr>\n",
       "      <th>85</th>\n",
       "      <td>2015-03-31</td>\n",
       "      <td>465000.0</td>\n",
       "    </tr>\n",
       "    <tr>\n",
       "      <th>86</th>\n",
       "      <td>2015-04-30</td>\n",
       "      <td>467000.0</td>\n",
       "    </tr>\n",
       "    <tr>\n",
       "      <th>87</th>\n",
       "      <td>2015-05-31</td>\n",
       "      <td>475000.0</td>\n",
       "    </tr>\n",
       "    <tr>\n",
       "      <th>88</th>\n",
       "      <td>2015-06-30</td>\n",
       "      <td>489000.0</td>\n",
       "    </tr>\n",
       "    <tr>\n",
       "      <th>89</th>\n",
       "      <td>2015-07-31</td>\n",
       "      <td>482750.0</td>\n",
       "    </tr>\n",
       "    <tr>\n",
       "      <th>90</th>\n",
       "      <td>2015-08-31</td>\n",
       "      <td>475000.0</td>\n",
       "    </tr>\n",
       "    <tr>\n",
       "      <th>91</th>\n",
       "      <td>2015-09-30</td>\n",
       "      <td>470000.0</td>\n",
       "    </tr>\n",
       "    <tr>\n",
       "      <th>92</th>\n",
       "      <td>2015-10-31</td>\n",
       "      <td>470000.0</td>\n",
       "    </tr>\n",
       "    <tr>\n",
       "      <th>93</th>\n",
       "      <td>2015-11-30</td>\n",
       "      <td>485750.0</td>\n",
       "    </tr>\n",
       "    <tr>\n",
       "      <th>94</th>\n",
       "      <td>2015-12-31</td>\n",
       "      <td>485000.0</td>\n",
       "    </tr>\n",
       "  </tbody>\n",
       "</table>\n",
       "</div>"
      ],
      "text/plain": [
       "         Date  MedianSoldPrice\n",
       "83 2015-01-31         450000.0\n",
       "84 2015-02-28         450000.0\n",
       "85 2015-03-31         465000.0\n",
       "86 2015-04-30         467000.0\n",
       "87 2015-05-31         475000.0\n",
       "88 2015-06-30         489000.0\n",
       "89 2015-07-31         482750.0\n",
       "90 2015-08-31         475000.0\n",
       "91 2015-09-30         470000.0\n",
       "92 2015-10-31         470000.0\n",
       "93 2015-11-30         485750.0\n",
       "94 2015-12-31         485000.0"
      ]
     },
     "execution_count": 19,
     "metadata": {},
     "output_type": "execute_result"
    }
   ],
   "source": [
    "test = ca[-12:]\n",
    "test"
   ]
  },
  {
   "cell_type": "code",
   "execution_count": 24,
   "metadata": {},
   "outputs": [
    {
     "name": "stdout",
     "output_type": "stream",
     "text": [
      "ETS(train['MedianSoldPrice'], trend='add', seasonal=None, damped_trend=False)\n",
      "RMSE: 20164.288531643368\n"
     ]
    }
   ],
   "source": [
    "model_1 = ExponentialSmoothing(train['MedianSoldPrice'], trend=\"add\", seasonal=None, damped_trend=False).fit()\n",
    "pred_1 = pd.DataFrame(model_1.forecast(len(test)))\n",
    "rmse = np.sqrt(skmetrics.mean_squared_error(test['MedianSoldPrice'], pred_1[0]))\n",
    "print(\"ETS(trend='add', seasonal=None, damped_trend=False)\")\n",
    "print(f'RMSE: {rmse}')"
   ]
  },
  {
   "cell_type": "code",
   "execution_count": 25,
   "metadata": {},
   "outputs": [
    {
     "name": "stdout",
     "output_type": "stream",
     "text": [
      "ETS(train['MedianSoldPrice'], trend='add', seasonal=None, damped_trend=True)\n",
      "RMSE: 19785.090807667082\n"
     ]
    }
   ],
   "source": [
    "model_1 = ExponentialSmoothing(train['MedianSoldPrice'], trend=\"add\", seasonal=None, damped_trend=True).fit()\n",
    "pred_1 = pd.DataFrame(model_1.forecast(len(test)))\n",
    "rmse = np.sqrt(skmetrics.mean_squared_error(test['MedianSoldPrice'], pred_1[0]))\n",
    "print(\"ETS(trend='add', seasonal=None, damped_trend=True)\")\n",
    "print(f'RMSE: {rmse}')"
   ]
  },
  {
   "cell_type": "code",
   "execution_count": 37,
   "metadata": {},
   "outputs": [
    {
     "name": "stdout",
     "output_type": "stream",
     "text": [
      "ETS(trend='add', seasonal='add', seasonal_periods=12, damped_trend=False)\n",
      "RMSE: 12642.49192309254\n"
     ]
    }
   ],
   "source": [
    "model_1 = ExponentialSmoothing(train['MedianSoldPrice'], trend=\"add\", seasonal='add', seasonal_periods=12, damped_trend=False).fit()\n",
    "pred_1 = pd.DataFrame(model_1.forecast(len(test)))\n",
    "rmse = np.sqrt(skmetrics.mean_squared_error(test['MedianSoldPrice'], pred_1[0]))\n",
    "print(\"ETS(trend='add', seasonal='add', seasonal_periods=12, damped_trend=False)\")\n",
    "print(f'RMSE: {rmse}')"
   ]
  },
  {
   "cell_type": "code",
   "execution_count": 32,
   "metadata": {},
   "outputs": [
    {
     "name": "stdout",
     "output_type": "stream",
     "text": [
      "ETS(trend='add', seasonal='add', seasonal_periods=12, damped_trend=True)\n",
      "RMSE: 14254.814081436676\n"
     ]
    }
   ],
   "source": [
    "model_1 = ExponentialSmoothing(train['MedianSoldPrice'], trend=\"add\", seasonal='add', seasonal_periods=12, damped_trend=True).fit()\n",
    "pred_1 = pd.DataFrame(model_1.forecast(len(test)))\n",
    "rmse = np.sqrt(skmetrics.mean_squared_error(test['MedianSoldPrice'], pred_1[0]))\n",
    "print(\"ETS(trend='add', seasonal='add', seasonal_periods=12, damped_trend=True)\")\n",
    "print(f'RMSE: {rmse}')"
   ]
  },
  {
   "cell_type": "code",
   "execution_count": 35,
   "metadata": {},
   "outputs": [
    {
     "name": "stdout",
     "output_type": "stream",
     "text": [
      "ETS(trend='add', seasonal='mul', seasonal_periods=12, damped_trend=False)\n",
      "RMSE: 12534.052899718252\n"
     ]
    }
   ],
   "source": [
    "model_1 = ExponentialSmoothing(train['MedianSoldPrice'], trend=\"add\", seasonal='mul', seasonal_periods=12, damped_trend=False).fit()\n",
    "pred_1 = pd.DataFrame(model_1.forecast(len(test)))\n",
    "rmse = np.sqrt(skmetrics.mean_squared_error(test['MedianSoldPrice'], pred_1[0]))\n",
    "print(\"ETS(trend='add', seasonal='mul', seasonal_periods=12, damped_trend=False)\")\n",
    "print(f'RMSE: {rmse}')"
   ]
  },
  {
   "cell_type": "code",
   "execution_count": 33,
   "metadata": {},
   "outputs": [
    {
     "name": "stdout",
     "output_type": "stream",
     "text": [
      "ETS(trend='add', seasonal='mul', seasonal_periods=12, damped_trend=True)\n",
      "RMSE: 14262.164921436794\n"
     ]
    }
   ],
   "source": [
    "model_1 = ExponentialSmoothing(train['MedianSoldPrice'], trend=\"add\", seasonal='mul', seasonal_periods=12, damped_trend=True).fit()\n",
    "pred_1 = pd.DataFrame(model_1.forecast(len(test)))\n",
    "rmse = np.sqrt(skmetrics.mean_squared_error(test['MedianSoldPrice'], pred_1[0]))\n",
    "print(\"ETS(trend='add', seasonal='mul', seasonal_periods=12, damped_trend=True)\")\n",
    "print(f'RMSE: {rmse}')"
   ]
  },
  {
   "cell_type": "markdown",
   "metadata": {},
   "source": [
    "### Theta"
   ]
  },
  {
   "cell_type": "code",
   "execution_count": 66,
   "metadata": {},
   "outputs": [
    {
     "data": {
      "text/plain": [
       "(26436.21174613577,\n",
       " 83    443141.151342\n",
       " 84    445442.035588\n",
       " 85    448042.446514\n",
       " 86    450522.093078\n",
       " 87    444337.822507\n",
       " 88    446644.108600\n",
       " 89    449250.721848\n",
       " 90    451736.236920\n",
       " 91    445534.493673\n",
       " 92    447846.181611\n",
       " 93    450458.997182\n",
       " 94    452950.380762\n",
       " Name: forecast, dtype: float64)"
      ]
     },
     "execution_count": 66,
     "metadata": {},
     "output_type": "execute_result"
    }
   ],
   "source": [
    "model_4 = ThetaModel(train['MedianSoldPrice'], period=4, deseasonalize=True)\n",
    "res = model_4.fit()\n",
    "pred = res.forecast(len(test))\n",
    "rmse = np.sqrt(skmetrics.mean_squared_error(test['MedianSoldPrice'], pred))\n",
    "rmse, pred"
   ]
  },
  {
   "cell_type": "code",
   "execution_count": 58,
   "metadata": {},
   "outputs": [
    {
     "data": {
      "text/plain": [
       "(24166.566347427462,\n",
       " 83    449182.635387\n",
       " 84    449484.923809\n",
       " 85    449787.212231\n",
       " 86    450089.500653\n",
       " 87    450391.789075\n",
       " 88    450694.077497\n",
       " 89    450996.365919\n",
       " 90    451298.654341\n",
       " 91    451600.942763\n",
       " 92    451903.231185\n",
       " 93    452205.519606\n",
       " 94    452507.808028\n",
       " Name: forecast, dtype: float64)"
      ]
     },
     "execution_count": 58,
     "metadata": {},
     "output_type": "execute_result"
    }
   ],
   "source": [
    "model_5 = ThetaModel(train['MedianSoldPrice'], deseasonalize=False)\n",
    "res = model_5.fit()\n",
    "pred = res.forecast(len(test))\n",
    "rmse = np.sqrt(skmetrics.mean_squared_error(test['MedianSoldPrice'], pred))\n",
    "rmse, pred"
   ]
  },
  {
   "cell_type": "markdown",
   "metadata": {},
   "source": [
    "### Graph"
   ]
  },
  {
   "cell_type": "code",
   "execution_count": 67,
   "metadata": {},
   "outputs": [],
   "source": [
    "model_1 = ExponentialSmoothing(train['MedianSoldPrice'], trend=\"add\", seasonal='mul', seasonal_periods=12, damped_trend=False).fit()\n",
    "pred_ets = pd.DataFrame(model_1.forecast(len(test)))"
   ]
  },
  {
   "cell_type": "code",
   "execution_count": 68,
   "metadata": {},
   "outputs": [],
   "source": [
    "model_5 = ThetaModel(train['MedianSoldPrice'], deseasonalize=False)\n",
    "res = model_5.fit()\n",
    "pred_theta = res.forecast(len(test))"
   ]
  },
  {
   "cell_type": "code",
   "execution_count": 70,
   "metadata": {},
   "outputs": [
    {
     "data": {
      "image/png": "[encoded data removed]",
      "text/plain": [
       "<Figure size 640x480 with 1 Axes>"
      ]
     },
     "metadata": {},
     "output_type": "display_data"
    }
   ],
   "source": [
    "plt.plot(train['Date'], train['MedianSoldPrice'], label='History')\n",
    "plt.plot(test['Date'], test['MedianSoldPrice'], label='Test')\n",
    "plt.plot(test['Date'], pred_ets.values, label='Best ETS')\n",
    "plt.plot(test['Date'], pred_theta, label='Best Theta')\n",
    "plt.legend(loc='upper left', fontsize=8)\n",
    "plt.show()"
   ]
  },
  {
   "cell_type": "code",
   "execution_count": null,
   "metadata": {},
   "outputs": [],
   "source": []
  }
 ],
 "metadata": {
  "kernelspec": {
   "display_name": "ml",
   "language": "python",
   "name": "python3"
  },
  "language_info": {
   "codemirror_mode": {
    "name": "ipython",
    "version": 3
   },
   "file_extension": ".py",
   "mimetype": "text/x-python",
   "name": "python",
   "nbconvert_exporter": "python",
   "pygments_lexer": "ipython3",
   "version": "3.11.4"
  }
 },
 "nbformat": 4,
 "nbformat_minor": 2
}
